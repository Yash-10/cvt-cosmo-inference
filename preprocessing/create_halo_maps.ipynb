{
 "cells": [
  {
   "cell_type": "code",
   "execution_count": 1,
   "id": "4185bb05",
   "metadata": {
    "tags": []
   },
   "outputs": [
    {
     "name": "stdout",
     "output_type": "stream",
     "text": [
      "Requirement already satisfied: hdf5plugin in /srv/conda/envs/notebook/lib/python3.10/site-packages (4.3.0)\n",
      "Requirement already satisfied: h5py in /srv/conda/envs/notebook/lib/python3.10/site-packages (from hdf5plugin) (3.10.0)\n",
      "Requirement already satisfied: numpy>=1.17.3 in /srv/conda/envs/notebook/lib/python3.10/site-packages (from h5py->hdf5plugin) (1.26.0)\n",
      "Collecting Pylians==0.10\n",
      "  Downloading Pylians-0.10.tar.gz (3.2 MB)\n",
      "\u001b[2K     \u001b[90m━━━━━━━━━━━━━━━━━━━━━━━━━━━━━━━━━━━━━━━━\u001b[0m \u001b[32m3.2/3.2 MB\u001b[0m \u001b[31m12.2 MB/s\u001b[0m eta \u001b[36m0:00:00\u001b[0ma \u001b[36m0:00:01\u001b[0m\n",
      "\u001b[?25h  Installing build dependencies ... \u001b[?25ldone\n",
      "\u001b[?25h  Getting requirements to build wheel ... \u001b[?25ldone\n",
      "\u001b[?25h  Installing backend dependencies ... \u001b[?25ldone\n",
      "\u001b[?25h  Preparing metadata (pyproject.toml) ... \u001b[?25ldone\n",
      "\u001b[?25hRequirement already satisfied: h5py in /srv/conda/envs/notebook/lib/python3.10/site-packages (from Pylians==0.10) (3.10.0)\n",
      "Requirement already satisfied: scipy in /srv/conda/envs/notebook/lib/python3.10/site-packages (from Pylians==0.10) (1.11.3)\n",
      "Requirement already satisfied: hdf5plugin in /srv/conda/envs/notebook/lib/python3.10/site-packages (from Pylians==0.10) (4.3.0)\n",
      "Requirement already satisfied: Cython<3.0.0 in /srv/conda/envs/notebook/lib/python3.10/site-packages (from Pylians==0.10) (0.29.36)\n",
      "Requirement already satisfied: pyfftw in /srv/conda/envs/notebook/lib/python3.10/site-packages (from Pylians==0.10) (0.13.1)\n",
      "Requirement already satisfied: numpy>=1.17.3 in /srv/conda/envs/notebook/lib/python3.10/site-packages (from h5py->Pylians==0.10) (1.26.0)\n",
      "Building wheels for collected packages: Pylians\n",
      "  Building wheel for Pylians (pyproject.toml) ... \u001b[?25ldone\n",
      "\u001b[?25h  Created wheel for Pylians: filename=Pylians-0.10-cp310-cp310-linux_x86_64.whl size=1829704 sha256=90b1bc41d0eebbb825a7468b6ddb55a9254f1aed58cbd199d70a3b1ea6de59c5\n",
      "  Stored in directory: /home/jovyan/.cache/pip/wheels/10/fb/7a/31b40029ebe7a65dd0aa6d698fa05cb9ad0e5ea2d4a9c4ff33\n",
      "Successfully built Pylians\n",
      "Installing collected packages: Pylians\n",
      "  Attempting uninstall: Pylians\n",
      "    Found existing installation: Pylians 0.11\n",
      "    Uninstalling Pylians-0.11:\n",
      "      Successfully uninstalled Pylians-0.11\n",
      "Successfully installed Pylians-0.10\n"
     ]
    }
   ],
   "source": [
    "!python -m pip install hdf5plugin\n",
    "!pip install --upgrade Pylians==0.10  # 0.10 is necessary, 0.11 will give error.\n",
    "\n",
    "import h5py\n",
    "import hdf5plugin\n",
    "import gzip"
   ]
  },
  {
   "cell_type": "code",
   "execution_count": 2,
   "id": "f4c9e535",
   "metadata": {
    "tags": []
   },
   "outputs": [],
   "source": [
    "import os\n",
    "import numpy as np\n",
    "import readgadget\n",
    "import MAS_library as MASL\n",
    "import readfof\n",
    "\n",
    "import matplotlib.pyplot as plt"
   ]
  },
  {
   "cell_type": "code",
   "execution_count": 3,
   "id": "2416adc0",
   "metadata": {
    "tags": []
   },
   "outputs": [
    {
     "name": "stdout",
     "output_type": "stream",
     "text": [
      "FoF  FoF_id  Rockstar\n"
     ]
    }
   ],
   "source": [
    "!ls /home/jovyan/Data/Halos/"
   ]
  },
  {
   "cell_type": "code",
   "execution_count": 4,
   "id": "3404aeaf",
   "metadata": {
    "tags": []
   },
   "outputs": [
    {
     "name": "stdout",
     "output_type": "stream",
     "text": [
      "/home/jovyan\n",
      "--2024-01-02 17:07:53--  https://github.com/franciscovillaescusa/Quijote-simulations/blob/master/latin_hypercube/latin_hypercube_params.txt?raw=true\n",
      "Resolving github.com (github.com)... 140.82.113.3\n",
      "Connecting to github.com (github.com)|140.82.113.3|:443... connected.\n",
      "HTTP request sent, awaiting response... 302 Found\n",
      "Location: https://github.com/franciscovillaescusa/Quijote-simulations/raw/master/latin_hypercube/latin_hypercube_params.txt [following]\n",
      "--2024-01-02 17:07:53--  https://github.com/franciscovillaescusa/Quijote-simulations/raw/master/latin_hypercube/latin_hypercube_params.txt\n",
      "Reusing existing connection to github.com:443.\n",
      "HTTP request sent, awaiting response... 302 Found\n",
      "Location: https://raw.githubusercontent.com/franciscovillaescusa/Quijote-simulations/master/latin_hypercube/latin_hypercube_params.txt [following]\n",
      "--2024-01-02 17:07:53--  https://raw.githubusercontent.com/franciscovillaescusa/Quijote-simulations/master/latin_hypercube/latin_hypercube_params.txt\n",
      "Resolving raw.githubusercontent.com (raw.githubusercontent.com)... 185.199.109.133, 185.199.111.133, 185.199.108.133, ...\n",
      "Connecting to raw.githubusercontent.com (raw.githubusercontent.com)|185.199.109.133|:443... connected.\n",
      "HTTP request sent, awaiting response... 200 OK\n",
      "Length: 250108 (244K) [text/plain]\n",
      "Saving to: ‘latin_hypercube_params.txt?raw=true’\n",
      "\n",
      "latin_hypercube_par 100%[===================>] 244.25K  --.-KB/s    in 0.002s  \n",
      "\n",
      "2024-01-02 17:07:53 (144 MB/s) - ‘latin_hypercube_params.txt?raw=true’ saved [250108/250108]\n",
      "\n"
     ]
    }
   ],
   "source": [
    "!pwd\n",
    "!wget https://github.com/franciscovillaescusa/Quijote-simulations/blob/master/latin_hypercube/latin_hypercube_params.txt?raw=true"
   ]
  },
  {
   "cell_type": "code",
   "execution_count": 5,
   "id": "99f60d79",
   "metadata": {
    "tags": []
   },
   "outputs": [
    {
     "data": {
      "text/plain": [
       "array([[0.1755 , 0.06681, 0.7737 , 0.8849 , 0.6641 ],\n",
       "       [0.2139 , 0.05557, 0.8599 , 0.9785 , 0.8619 ],\n",
       "       [0.1867 , 0.04503, 0.6189 , 0.8307 , 0.7187 ],\n",
       "       ...,\n",
       "       [0.1611 , 0.03709, 0.8161 , 1.0743 , 0.9983 ],\n",
       "       [0.4017 , 0.04425, 0.8509 , 0.8251 , 0.7833 ],\n",
       "       [0.2953 , 0.04701, 0.8017 , 0.8193 , 0.6627 ]])"
      ]
     },
     "execution_count": 5,
     "metadata": {},
     "output_type": "execute_result"
    }
   ],
   "source": [
    "lh_params = np.loadtxt('latin_hypercube_params.txt?raw=true')\n",
    "lh_params"
   ]
  },
  {
   "cell_type": "code",
   "execution_count": 6,
   "id": "1c5c92cc",
   "metadata": {
    "tags": []
   },
   "outputs": [],
   "source": [
    "# CONSTANTS\n",
    "NUM_SIMS = 1000  # Can be any integer <= 2000.\n",
    "BASE_PATH = '/home/jovyan/Data/Halos/FoF/latin_hypercube/'\n",
    "OUTPUT_DIR = '/home/jovyan/my_outputs_halo/'\n",
    "\n",
    "if not os.path.exists(OUTPUT_DIR):\n",
    "    os.mkdir(OUTPUT_DIR)\n",
    "\n",
    "grid     = 64    #the density field will have grid^3 voxels\n",
    "MAS      = 'CIC'  #Mass-assignment scheme:'NGP', 'CIC', 'TSC', 'PCS'\n",
    "verbose  = True   #whether to print information about the progress\n",
    "ptype    = [1]    #[1](CDM), [2](neutrinos) or [1,2](CDM+neutrinos)"
   ]
  },
  {
   "cell_type": "code",
   "execution_count": 35,
   "id": "d0ce8c3d-ac59-4c6c-b5b8-f41d824ec574",
   "metadata": {
    "tags": []
   },
   "outputs": [],
   "source": [
    "def calculate_HMF(mass_h, Np_h, min_mass=2e13, max_mass=1e15):  # min_mass and max_mass in Msun/h.\n",
    "    # min_mass = 2e13 #minimum mass in Msun/h\n",
    "    # max_mass = 1e15 #maximum mass in Msun/h\n",
    "    bins     = 30   #number of bins in the HMF\n",
    "\n",
    "    # Correct the masses of the FoF halos\n",
    "    mass_h = mass_h*(1.0-Np_h**(-0.6))\n",
    "\n",
    "    bins_mass = np.logspace(np.log10(min_mass), np.log10(max_mass), bins+1)\n",
    "    mass_mean = 10**(0.5*(np.log10(bins_mass[1:])+np.log10(bins_mass[:-1])))\n",
    "    dM        = bins_mass[1:] - bins_mass[:-1]\n",
    "\n",
    "    # compute the halo mass function (number of halos per unit volume per unit mass)\n",
    "    HMF = np.histogram(mass_h, bins=bins_mass)[0]/(dM*BoxSize**3)\n",
    "\n",
    "    return mass_mean, HMF"
   ]
  },
  {
   "cell_type": "code",
   "execution_count": 45,
   "id": "afea2277",
   "metadata": {
    "tags": []
   },
   "outputs": [],
   "source": [
    "import sys\n",
    "save_stdout = sys.stdout\n",
    "sys.stdout = open('trash', 'w')\n",
    "\n",
    "bad_flags = []  # For storing simulation numbers having empty voxels in the density field.\n",
    "\n",
    "masses = []\n",
    "HMFs = []\n",
    "for i in range(NUM_SIMS):\n",
    "    snapdir = f'/home/jovyan/Data/Halos/FoF/latin_hypercube/{i}' #folder hosting the catalogue\n",
    "#     snapnum = 4                                      #number of the catalog (4-->z=0, 3-->z=0.5, 2-->z=1, 1-->z=2, 0-->z=3)\n",
    "\n",
    "    cosmo_params = lh_params[i]  # For halos, we do not load the parameters from Cosmo_params.dat (as in density field construction) because there is no such file for Halos. So we load all parameters at once from the text file.\n",
    "\n",
    "#     header   = readgadget.header(snapshot)\n",
    "#     BoxSize  = header.boxsize/1e3  #Mpc/h\n",
    "#     redshift = header.redshift     #redshift of the snapshot\n",
    "#     Masses   = header.massarr*1e10 #Masses of the particles in Msun/h\n",
    "\n",
    "    # We are hardcoding these values since it's not possible to access both the Snapshots and the Halo catalogs\n",
    "    # from either the San Diego or New York cluster for the latin hypercube data.\n",
    "    # TODO: I have asked Quijote simulations creators if this is the right thing to do. Until then, I don't see any problems.\n",
    "    redshift = 2.220446049250313e-16\n",
    "    BoxSize = 1000.0\n",
    "\n",
    "    # read the halo catalogue\n",
    "    FoF = readfof.FoF_catalog(snapdir, snapnum=4, long_ids=False,  # 4 means z=0.\n",
    "                              swap=False, SFR=False, read_IDs=False)\n",
    "\n",
    "    # get the properties of the halos\n",
    "    pos_h  = FoF.GroupPos/1e3            #Halo positions in Mpc/h\n",
    "    vel_h  = FoF.GroupVel*(1.0+redshift) #Halo peculiar velocities in km/s\n",
    "    mass_h = FoF.GroupMass*1e10          #Halo masses in Msun/h\n",
    "    Np_h   = FoF.GroupLen                #Number of CDM particles in the halo. Even in simulations with massive neutrinos, this will be just the number of CDM particles\n",
    "\n",
    "    delta = np.zeros((grid,grid,grid), dtype=np.float32)\n",
    "\n",
    "    # Calculate HMF.\n",
    "    mass_mean, HMF = calculate_HMF(mass_h, Np_h, min_mass=10**12.5, max_mass=10**16.5)\n",
    "    masses.append(mass_mean)\n",
    "    HMFs.append(HMF)\n",
    "\n",
    "    # Construct 3D halo distribution\n",
    "    MASL.MA(pos_h, delta, BoxSize, MAS, verbose=verbose)\n",
    "\n",
    "    # We want the effective no. of particles in each voxel, so skip the below code.\n",
    "#     delta *= Masses[1]\n",
    "\n",
    "    if np.any(delta == 0.0):\n",
    "        print('Halo distribution on the grid contains at least one empty voxel!')\n",
    "        bad_flags.append(1)\n",
    "    else:\n",
    "        bad_flags.append(0)\n",
    "\n",
    "    filename = os.path.join(OUTPUT_DIR, f'halos_sim{i}_LH_z0_grid{grid}_mas{MAS}.h5')\n",
    "    h5f = h5py.File(filename, 'w')\n",
    "    dataset = h5f.create_dataset('3D_halo_distribution', data=delta, compression='gzip')\n",
    "    dataset.attrs['cosmo_params'] = cosmo_params  # Order of storing parameters is same as Cosmo_params.dat\n",
    "    h5f.close()\n",
    "\n",
    "sys.stdout = save_stdout"
   ]
  },
  {
   "cell_type": "code",
   "execution_count": 46,
   "id": "d0de352a",
   "metadata": {
    "tags": []
   },
   "outputs": [],
   "source": [
    "!tar -czf halo_maps_3D_LH_z0_grid64_masCIC.tar.gz my_outputs_halo"
   ]
  },
  {
   "cell_type": "code",
   "execution_count": 47,
   "id": "64836a23",
   "metadata": {
    "tags": []
   },
   "outputs": [
    {
     "name": "stdout",
     "output_type": "stream",
     "text": [
      "-rw-r--r-- 1 jovyan jovyan 890M Jan  2 18:10 halo_maps_3D_LH_z0_grid64_masCIC.tar.gz\n"
     ]
    }
   ],
   "source": [
    "!ls -lh halo_maps_3D_LH_z0_grid64_masCIC.tar.gz"
   ]
  },
  {
   "cell_type": "code",
   "execution_count": 48,
   "id": "8fab70aa",
   "metadata": {
    "tags": []
   },
   "outputs": [
    {
     "data": {
      "text/plain": [
       "<matplotlib.colorbar.Colorbar at 0x7f174c19be50>"
      ]
     },
     "execution_count": 48,
     "metadata": {},
     "output_type": "execute_result"
    },
    {
     "data": {
      "image/png": "[encoded data removed]",
      "text/plain": [
       "<Figure size 800x800 with 2 Axes>"
      ]
     },
     "metadata": {},
     "output_type": "display_data"
    }
   ],
   "source": [
    "plt.figure(figsize=(8, 8)); plt.imshow(delta[:,:,0]); plt.colorbar()"
   ]
  },
  {
   "cell_type": "code",
   "execution_count": 49,
   "id": "2f504b4c",
   "metadata": {
    "tags": []
   },
   "outputs": [
    {
     "name": "stdout",
     "output_type": "stream",
     "text": [
      "False\n"
     ]
    }
   ],
   "source": [
    "print(np.any(bad_flags == 1))"
   ]
  },
  {
   "cell_type": "code",
   "execution_count": 50,
   "id": "0e4cedfe-e1f4-4791-bea9-248dfa3ae516",
   "metadata": {
    "tags": []
   },
   "outputs": [
    {
     "data": {
      "image/png": "[encoded data removed]",
      "text/plain": [
       "<Figure size 640x480 with 1 Axes>"
      ]
     },
     "metadata": {},
     "output_type": "display_data"
    }
   ],
   "source": [
    "import matplotlib.pyplot as plt\n",
    "plt.xscale('log')\n",
    "plt.yscale('log')\n",
    "plt.xlabel(r'$M_{\\rm halo}~[h^{-1}M_\\odot]$')\n",
    "plt.ylabel(r'$HMF~[h^4M_\\odot^{-1}{\\rm Mpc}^{-3}]$')\n",
    "plt.plot(np.mean(masses, axis=0), np.mean(HMFs, axis=0))\n",
    "plt.show()"
   ]
  },
  {
   "cell_type": "code",
   "execution_count": 51,
   "id": "12e8ed21-d049-4155-8a42-26564d40b74b",
   "metadata": {
    "tags": []
   },
   "outputs": [
    {
     "data": {
      "text/plain": [
       "(0.36869450645195734, 2712.2725793320296)"
      ]
     },
     "execution_count": 51,
     "metadata": {},
     "output_type": "execute_result"
    }
   ],
   "source": [
    "np.min(masses)/1e13, np.max(masses)/1e13"
   ]
  },
  {
   "cell_type": "code",
   "execution_count": null,
   "id": "ad6551a2-d0f2-4288-a466-23068a1b3d0d",
   "metadata": {},
   "outputs": [],
   "source": []
  }
 ],
 "metadata": {
  "kernelspec": {
   "display_name": "Python 3 (ipykernel)",
   "language": "python",
   "name": "python3"
  },
  "language_info": {
   "codemirror_mode": {
    "name": "ipython",
    "version": 3
   },
   "file_extension": ".py",
   "mimetype": "text/x-python",
   "name": "python",
   "nbconvert_exporter": "python",
   "pygments_lexer": "ipython3",
   "version": "3.10.11"
  }
 },
 "nbformat": 4,
 "nbformat_minor": 5
}
